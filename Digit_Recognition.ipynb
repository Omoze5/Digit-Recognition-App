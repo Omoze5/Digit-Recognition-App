{
 "cells": [
  {
   "cell_type": "code",
   "execution_count": 1,
   "id": "d3bd6e32",
   "metadata": {},
   "outputs": [],
   "source": [
    "import pandas as pd\n",
    "import numpy as np\n",
    "from torchvision import datasets\n",
    "import torch\n",
    "import torchvision\n",
    "import torchvision.transforms as transforms"
   ]
  },
  {
   "cell_type": "code",
   "execution_count": 2,
   "id": "4924d372",
   "metadata": {},
   "outputs": [],
   "source": [
    "# Define a transform to normalize the data\n",
    "transform = transforms.Compose(\n",
    "    [transforms.ToTensor(),\n",
    "     transforms.Normalize((0.5,), (0.5,))])\n",
    "\n",
    "# Download and load the training data\n",
    "trainset = torchvision.datasets.MNIST(root='./data', train=True,\n",
    "                                        download=True, transform=transform)\n",
    "train_loader = torch.utils.data.DataLoader(trainset, batch_size=4,\n",
    "                                          shuffle=True, num_workers=2)\n",
    "\n",
    "# Download and load the test data\n",
    "testset = torchvision.datasets.MNIST(root='./data', train=False,\n",
    "                                       download=True, transform=transform)\n",
    "test_loader = torch.utils.data.DataLoader(testset, batch_size=4,\n",
    "                                         shuffle=False, num_workers=2)\n",
    "\n",
    "# The classes are the digits 0-9\n",
    "classes = ('0', '1', '2', '3', '4',\n",
    "           '5', '6', '7', '8', '9')\n"
   ]
  },
  {
   "cell_type": "code",
   "execution_count": 3,
   "id": "f4c87e67",
   "metadata": {},
   "outputs": [
    {
     "name": "stdout",
     "output_type": "stream",
     "text": [
      "torch.Size([4, 1, 28, 28])\n"
     ]
    }
   ],
   "source": [
    "# gettin the shape of the images\n",
    "test,_ = next(iter(train_loader))\n",
    "\n",
    "print(test.shape)"
   ]
  },
  {
   "cell_type": "code",
   "execution_count": 4,
   "id": "2a5d1dfe",
   "metadata": {},
   "outputs": [],
   "source": [
    "# building the model\n",
    "\n",
    "import torch.nn as nn\n",
    "from torch.optim import Adam\n",
    "\n",
    "class MyConvBlock(nn.Module):\n",
    "    def __init__(self):\n",
    "        super(MyConvBlock, self).__init__()\n",
    "        self.model = nn.Sequential(\n",
    "        nn.Conv2d(1, 32,3),\n",
    "        nn.ReLU(),\n",
    "        nn.MaxPool2d(2,2),\n",
    "            \n",
    "        nn.Conv2d(32, 64,3),\n",
    "        nn.ReLU(),\n",
    "        nn.MaxPool2d(2,2),\n",
    "            \n",
    "        nn.Conv2d(64,128,3),\n",
    "        nn.ReLU(),\n",
    "        nn.MaxPool2d(2,2),\n",
    "        \n",
    "        nn.Flatten(),\n",
    "            \n",
    "        nn.Linear(128,64),\n",
    "        nn.Linear(64,10)\n",
    "        \n",
    "        )\n",
    "        \n",
    "\n",
    "    def forward(self, x):\n",
    "        return self.model(x)\n",
    "    \n",
    "\n",
    "\n",
    "model = MyConvBlock()\n",
    "optimizer = Adam(model.parameters(), lr=0.001)\n",
    "criterion = nn.CrossEntropyLoss()\n",
    "\n",
    "\n"
   ]
  },
  {
   "cell_type": "code",
   "execution_count": 8,
   "id": "db972a1b",
   "metadata": {},
   "outputs": [
    {
     "name": "stdout",
     "output_type": "stream",
     "text": [
      "Epoch [1/10], Loss: 0.0235, Accuracy: 0.9940\n",
      "Epoch [3/10], Loss: 0.0237, Accuracy: 0.9943\n",
      "Epoch [5/10], Loss: 0.0220, Accuracy: 0.9945\n",
      "Epoch [7/10], Loss: 0.0230, Accuracy: 0.9951\n",
      "Epoch [9/10], Loss: 0.0247, Accuracy: 0.9954\n"
     ]
    }
   ],
   "source": [
    "# Training the model\n",
    "num_epoch = 10\n",
    "model.train()\n",
    "\n",
    "for epoch in range(num_epoch):\n",
    "    loss = 0\n",
    "    correct = 0\n",
    "    N = len(train_loader.dataset)  # Total number of samples\n",
    "\n",
    "    for x, y in train_loader:\n",
    "        output = model(x)\n",
    "        optimizer.zero_grad()\n",
    "        batch_loss = criterion(output, y)\n",
    "        batch_loss.backward()\n",
    "        optimizer.step()\n",
    "\n",
    "        # Accumulate the loss and correct predictions\n",
    "        loss += batch_loss.item()\n",
    "        pred = output.argmax(dim=1, keepdim=True)\n",
    "        correct += pred.eq(y.view_as(pred)).sum().item()\n",
    "\n",
    "    # Calculate average loss and accuracy for the epoch\n",
    "    avg_loss = loss / len(train_loader)\n",
    "    accuracy = correct / N\n",
    "\n",
    "    if epoch % 2 == 0:\n",
    "        print(f'Epoch [{epoch+1}/{num_epoch}], Loss: {avg_loss:.4f}, Accuracy: {accuracy:.4f}')\n"
   ]
  },
  {
   "cell_type": "code",
   "execution_count": 10,
   "id": "c1500460",
   "metadata": {},
   "outputs": [
    {
     "name": "stdout",
     "output_type": "stream",
     "text": [
      "Valid - Loss: 0.1668 Accuracy: 0.9807\n"
     ]
    }
   ],
   "source": [
    "# Evaluating the model using the test dataset\n",
    "model.eval()\n",
    "loss = 0\n",
    "correct = 0\n",
    "N = len(test_loader.dataset)  # Total number of samples in the test set\n",
    "\n",
    "with torch.no_grad():\n",
    "    for x, y in test_loader:\n",
    "        output = model(x)\n",
    "\n",
    "        # Calculate the batch loss and accumulate it\n",
    "        batch_loss = criterion(output, y)  # Use criterion, not `loss` again\n",
    "        loss += batch_loss.item()\n",
    "\n",
    "        # Calculate the number of correct predictions\n",
    "        pred = output.argmax(dim=1, keepdim=True)\n",
    "        correct += pred.eq(y.view_as(pred)).sum().item()\n",
    "\n",
    "# Calculate average loss and overall accuracy\n",
    "avg_loss = loss / len(test_loader)\n",
    "accuracy = correct / N\n",
    "\n",
    "print('Valid - Loss: {:.4f} Accuracy: {:.4f}'.format(avg_loss, accuracy))\n"
   ]
  },
  {
   "cell_type": "code",
   "execution_count": 11,
   "id": "c542d5aa",
   "metadata": {},
   "outputs": [
    {
     "name": "stdout",
     "output_type": "stream",
     "text": [
      "Model saved successfully!\n"
     ]
    }
   ],
   "source": [
    "# save the model\n",
    "\n",
    "# Specify the path where you want to save the model\n",
    "model_path = \"trained_model.pth\"\n",
    "\n",
    "# Save the model's state dictionary\n",
    "torch.save(model.state_dict(), model_path)\n",
    "print(\"Model saved successfully!\")\n"
   ]
  },
  {
   "cell_type": "code",
   "execution_count": null,
   "id": "56418896",
   "metadata": {},
   "outputs": [],
   "source": []
  },
  {
   "cell_type": "code",
   "execution_count": null,
   "id": "b1288dc9",
   "metadata": {},
   "outputs": [],
   "source": []
  },
  {
   "cell_type": "code",
   "execution_count": null,
   "id": "d0d20fdd",
   "metadata": {},
   "outputs": [],
   "source": []
  }
 ],
 "metadata": {
  "kernelspec": {
   "display_name": "Python 3 (ipykernel)",
   "language": "python",
   "name": "python3"
  },
  "language_info": {
   "codemirror_mode": {
    "name": "ipython",
    "version": 3
   },
   "file_extension": ".py",
   "mimetype": "text/x-python",
   "name": "python",
   "nbconvert_exporter": "python",
   "pygments_lexer": "ipython3",
   "version": "3.11.4"
  }
 },
 "nbformat": 4,
 "nbformat_minor": 5
}
